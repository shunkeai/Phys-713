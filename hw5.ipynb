{
 "cells": [
  {
   "cell_type": "code",
   "execution_count": 1,
   "metadata": {},
   "outputs": [],
   "source": [
    "# read in library and constants\n",
    "import numpy as np, os, sys\n",
    "import matplotlib.pylab as p\n",
    "\n",
    "sigmacont=5.67051e-5\n",
    "acont=7.5657e-15\n",
    "ev=1.602e-12\n",
    "hcont=6.62607004e-27\n",
    "ccont=2.99792458e10\n",
    "kcont=1.38064852e-16\n",
    "rcont=8.314472e7\n",
    "me=9.1093837015e-28\n",
    "Gcont=6.67259e-8\n",
    "Msun=1.989e33\n",
    "Mearth=5.972e27\n",
    "Mjupiter=1.898e30\n",
    "Lsun=3.827e33\n",
    "rsun=6.9599e10\n",
    "rjupiter=7.149e9\n",
    "rearth=6.371e8\n",
    "au=1.49598e13\n",
    "pc=3.085678e18\n",
    "mh=1.67352e-24\n",
    "yr=365.2425*24.*3600\n",
    "pi=3.1415926"
   ]
  },
  {
   "cell_type": "markdown",
   "metadata": {},
   "source": [
    "# Homework (due Oct 11)\n",
    "## Chapter 4, question 4"
   ]
  },
  {
   "cell_type": "markdown",
   "metadata": {},
   "source": [
    "#### (a) \n",
    "From virial theorem, the mean pressure inside a white dwarf can be expressed as \n",
    "\\begin{eqnarray}\n",
    "\\bar{P}=-{1 \\over 3}{E_{gr}\\over V}\\sim {1 \\over 3}{GM^2 \\over R V} \\sim {1 \\over 3}{GM^2 \\over R {4 \\over 3}\\pi R^3}\\sim {GM^2 \\over 4 \\pi R^4}\n",
    "\\end{eqnarray}\n",
    "#### (b)\n",
    "The speed of sound can be estimated as\n",
    "\\begin{eqnarray}\n",
    "v_s = \\sqrt{dP \\over d\\rho} \\sim \\sqrt{P \\over \\rho} \\sim \\sqrt{{1 \\over 3}{GM^2 \\over R V} {V \\over M}} \\sim \\sqrt{ GM \\over 3R}\n",
    "\\end{eqnarray}\n",
    "\n",
    "Assume the nuclear burning \"flame\" encompasses the star roughly at the sound speed, the timescale to tranverse the radius of a white dwarf is \n",
    "\\begin{eqnarray}\n",
    "\\tau \\sim {R \\over v_s} \\sim R / \\sqrt{ GM \\over 3R} \\sim \\left({G M \\over 3 R^3}\\right)^{-1/2} \\sim 4s\n",
    "\\end{eqnarray}\n",
    "### (c)\n",
    "Consider a carbon white dwarf with mass $M$, assume the mass-to-energy conversion efficiency is $0.1\\%$. The total energy output is\n",
    "\\begin{eqnarray}\n",
    "E_{out}=0.1\\% Mc^2 \\sim 2.5 \\times 10^{51} {\\rm erg}.\n",
    "\\end{eqnarray}\n",
    "The binding energy of the white dwarf is\n",
    "\\begin{eqnarray}\n",
    "|E_{gr}|= {GM^2 \\over R} \\sim 5\\times 10^{30} {\\rm erg}.\n",
    "\\end{eqnarray}\n",
    "Since the binding energy is the energy required to separate individual particles to infinity. Once all $0.1\\%$ of the total mass energy had been released, it is enough to separate individual particles to infinity, thus the white dwarf is disrupted completely, without leaving any remnant.\n",
    "\n",
    "#### (d)\n",
    "The mass deflect of each reaction is\n",
    "\\begin{eqnarray}\n",
    "\\Delta M = M_{Ni}-M_{Fe}=55.942135-55.934941=0.007194\n",
    "\\end{eqnarray}\n",
    "Consider a white dwarf with $1.4M_{\\odot}$ which was dominated with Ni, the total number of reaction can be estimated as\n",
    "\\begin{eqnarray}\n",
    "N={1.4M_{\\odot} \\over 56m_p}=3\\times 10^{55}\n",
    "\\end{eqnarray}\n",
    "The radioactive decay timescale is $\\tau_{decay}=(8.8+111)d \\sim 120 d \\sim 10^7 s$. The optical luminosity of tapy Ia supernova could be expressed as\n",
    "\\begin{eqnarray}\n",
    "L={\\Delta M N m_p c^2 \\over \\tau_{decay}}=8 \\times 10^9 L_{\\odot} \\sim 10^{10}L_{\\odot}\n",
    "\\end{eqnarray}\n",
    "\n",
    "#### (e)\n",
    "Since the photon diffusion time to the surface at radius $R$ is \n",
    "\\begin{eqnarray}\n",
    "\\tau_{\\rm diff}&=&{R^2 \\over lc}={R^2 \\kappa \\rho \\over c }={(v\\tau_{\\rm diff})^2 \\kappa \\rho \\over c}= {3v^2\\tau_{\\rm diff}^2 \\kappa M \\over 4 c \\pi R^3}={3v^2\\tau_{\\rm diff}^2 \\kappa M \\over 4 c \\pi v^3 \\tau_{\\rm  diff}^3} \\\\\n",
    "\\tau_{\\rm diff}&=& \\sqrt{{3\\kappa M \\over 4 c \\pi v }} \\sim 30 d\n",
    "\\end{eqnarray}\n",
    "The analytical peak time is at the same order of magnitude as $17d$."
   ]
  },
  {
   "cell_type": "code",
   "execution_count": 2,
   "metadata": {},
   "outputs": [
    {
     "name": "stdout",
     "output_type": "stream",
     "text": [
      "tau = 4.018204149669417 s\n",
      "Eout = 2.5026736707105427e+51 erg\n",
      "Egr = 5.173924390984441e+50 erg\n",
      "deltaM = 0.007193999999998368\n",
      "Number of reaction = 2.9712820880539225e+55\n",
      "L/L_sun = 8102763822.648871\n",
      "tau_diff = 29.852014360686685 d\n"
     ]
    }
   ],
   "source": [
    "#(a)\n",
    "M=1.4*Msun\n",
    "R=10**9\n",
    "tau=(Gcont*M/3/R**3)**(-1/2)\n",
    "print('tau =',tau,'s')\n",
    "#(b)\n",
    "Eout=10**(-3)*M*ccont**2\n",
    "print('Eout =',Eout, 'erg')\n",
    "Egr=Gcont*M**2/R\n",
    "print('Egr =', Egr,'erg')\n",
    "#(c)\n",
    "deltaM=55.942135-55.934941\n",
    "print('deltaM =',deltaM)\n",
    "N=M/(56*mh)\n",
    "print('Number of reaction =', N)\n",
    "tau_d=120*24*3600\n",
    "L=deltaM * mh*ccont**2*N/tau_d\n",
    "print('L/L_sun =', L/Lsun)\n",
    "#(d)\n",
    "kappa=0.3\n",
    "v=10**9\n",
    "tau_diff=np.sqrt(3*kappa*M/4/ccont/pi/v)\n",
    "print('tau_diff =',tau_diff/3600/24,'d')"
   ]
  },
  {
   "cell_type": "code",
   "execution_count": null,
   "metadata": {},
   "outputs": [],
   "source": []
  }
 ],
 "metadata": {
  "kernelspec": {
   "display_name": "Python 3",
   "language": "python",
   "name": "python3"
  },
  "language_info": {
   "codemirror_mode": {
    "name": "ipython",
    "version": 3
   },
   "file_extension": ".py",
   "mimetype": "text/x-python",
   "name": "python",
   "nbconvert_exporter": "python",
   "pygments_lexer": "ipython3",
   "version": "3.7.3"
  }
 },
 "nbformat": 4,
 "nbformat_minor": 2
}
