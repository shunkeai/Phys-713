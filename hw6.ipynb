{
 "cells": [
  {
   "cell_type": "code",
   "execution_count": 2,
   "metadata": {},
   "outputs": [],
   "source": [
    "# read in library and constants\n",
    "import numpy as np, os, sys\n",
    "import matplotlib.pylab as p\n",
    "\n",
    "sigmacont=5.67051e-5\n",
    "acont=7.5657e-15\n",
    "ev=1.602e-12\n",
    "hcont=6.62607004e-27\n",
    "ccont=2.99792458e10\n",
    "kcont=1.38064852e-16\n",
    "rcont=8.314472e7\n",
    "me=9.1093837015e-28\n",
    "Gcont=6.67259e-8\n",
    "Msun=1.989e33\n",
    "Mearth=5.972e27\n",
    "Mjupiter=1.898e30\n",
    "Lsun=3.827e33\n",
    "rsun=6.9599e10\n",
    "rjupiter=7.149e9\n",
    "rearth=6.371e8\n",
    "au=1.49598e13\n",
    "pc=3.085678e18\n",
    "mh=1.67352e-24\n",
    "yr=365.2425*24.*3600\n",
    "pi=3.1415926\n",
    "sigmaTcont=6.65245e-25"
   ]
  },
  {
   "cell_type": "markdown",
   "metadata": {},
   "source": [
    "## Homework (due Oct 18 )\n",
    "\n",
    "## Chapter 4,  question 10"
   ]
  },
  {
   "cell_type": "markdown",
   "metadata": {},
   "source": [
    "The maximum accreting radiation luminosity is Eddington luminosity, which is expressed as\n",
    "\\begin{eqnarray}\n",
    "L_E = {4 \\pi c G M m_p \\over \\sigma_T}.\n",
    "\\end{eqnarray}\n",
    "Consider the astronut as a particle with mass $m$ and cross-section equal to the geometrical cross section. For each photon-astronut collision, the photon would be totally reflected, thus the momentum transfered to the astronut is $p=2h\\nu / c$. The density of photons with energy $h \\nu$ at $r$ is,\n",
    "\\begin{eqnarray}\n",
    "n_{ph}={L_\\nu \\over 4\\pi r^2 c h\\nu},\n",
    "\\end{eqnarray}\n",
    "The scattering rate is \n",
    "\\begin{eqnarray}\n",
    "R=n_{ph}Ac\n",
    "\\end{eqnarray}\n",
    "\\begin{eqnarray}\n",
    "{dp \\over dt}=R{2 h\\nu \\over c}={L_\\nu \\over 4\\pi r^2 c h\\nu}Ac{2 h\\nu \\over c}={L_\\nu A \\over 2\\pi r^2 c}.\n",
    "\\end{eqnarray}\n",
    "Integral all the frequency, we know\n",
    "\\begin{eqnarray}\n",
    "{dp \\over dt}={L A \\over 2\\pi r^2 c}<{L_E A \\over 2\\pi r^2 c}\n",
    "\\end{eqnarray}\n",
    "The gravitational force acted on the astronut is\n",
    "\\begin{eqnarray}\n",
    "F_{gra}={G M m \\over r^2},\n",
    "\\end{eqnarray}\n",
    "To support the astronut not to fall into the central object, we have\n",
    "\\begin{eqnarray}\n",
    "{G M m \\over r^2}<L_E={4 \\pi GM c m_p \\over \\sigma_T}{A \\over 2\\pi r^2 c}\n",
    "\\end{eqnarray}\n",
    "\\begin{eqnarray}\n",
    "m < {2 m_p \\over \\sigma_T}A \\approx 75kg\n",
    "\\end{eqnarray}\n"
   ]
  },
  {
   "cell_type": "code",
   "execution_count": 3,
   "metadata": {},
   "outputs": [
    {
     "name": "stdout",
     "output_type": "stream",
     "text": [
      "m_max = 75469.33836406135\n"
     ]
    }
   ],
   "source": [
    "A=1.5*10**4\n",
    "mmax=2*mh*A/sigmaTcont\n",
    "print('m_max =',mmax)"
   ]
  },
  {
   "cell_type": "code",
   "execution_count": null,
   "metadata": {},
   "outputs": [],
   "source": []
  }
 ],
 "metadata": {
  "kernelspec": {
   "display_name": "Python 3",
   "language": "python",
   "name": "python3"
  },
  "language_info": {
   "codemirror_mode": {
    "name": "ipython",
    "version": 3
   },
   "file_extension": ".py",
   "mimetype": "text/x-python",
   "name": "python",
   "nbconvert_exporter": "python",
   "pygments_lexer": "ipython3",
   "version": "3.7.3"
  }
 },
 "nbformat": 4,
 "nbformat_minor": 2
}
