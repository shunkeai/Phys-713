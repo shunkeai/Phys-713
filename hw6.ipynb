{
 "cells": [
  {
   "cell_type": "markdown",
   "metadata": {},
   "source": [
    "# Midterm exam on Oct 27th\n",
    "\n",
    "## Chapter 1,2,3,4,5"
   ]
  },
  {
   "cell_type": "code",
   "execution_count": 1,
   "metadata": {},
   "outputs": [],
   "source": [
    "# read in library and constants\n",
    "import numpy as np, os, sys\n",
    "import matplotlib.pylab as p\n",
    "\n",
    "sigmacont=5.67051e-5\n",
    "acont=7.5657e-15\n",
    "ev=1.602e-12\n",
    "hcont=6.62607004e-27\n",
    "ccont=2.99792458e10\n",
    "kcont=1.38064852e-16\n",
    "rcont=8.314472e7\n",
    "me=9.1093837015e-28\n",
    "Gcont=6.67259e-8\n",
    "Msun=1.989e33\n",
    "Mearth=5.972e27\n",
    "Mjupiter=1.898e30\n",
    "Lsun=3.827e33\n",
    "rsun=6.9599e10\n",
    "rjupiter=7.149e9\n",
    "rearth=6.371e8\n",
    "au=1.49598e13\n",
    "pc=3.085678e18\n",
    "mh=1.67352e-24\n",
    "yr=365.2425*24.*3600\n",
    "pi=3.1415926\n",
    "sigmaTcont=6.65245e-25"
   ]
  },
  {
   "cell_type": "code",
   "execution_count": 1,
   "metadata": {},
   "outputs": [],
   "source": [
    "# What is the radiative efficiency of an accreting neutron star \n",
    "\n",
    "# how about for a non-rotating black hole. The last stable orbit is 3 r_s.\n",
    "\n",
    "# For a reference, the nuclear reaction efficiency is 0.7%"
   ]
  },
  {
   "cell_type": "markdown",
   "metadata": {},
   "source": [
    "Assume half of the gravitational energy is radiated with thermal radiation. For $r_{out}>>r_{in}$,\n",
    "\\begin{eqnarray}\n",
    "L={1 \\over 2}{GM \\over c^2 r_{in}}.\n",
    "\\end{eqnarray}\n",
    "The radiative efficiency can be calcualted as\n",
    "\\begin{eqnarray}\n",
    "\\eta = {{1 \\over 2}{GM\\dot{m} \\over r_{in}} \\over \\dot{m}c^2}={1\\over 2}{GM \\over c^2 r_{in}}\n",
    "\\end{eqnarray}"
   ]
  },
  {
   "cell_type": "code",
   "execution_count": 2,
   "metadata": {},
   "outputs": [
    {
     "name": "stdout",
     "output_type": "stream",
     "text": [
      "eta_NS = 0.10336793908723015\n",
      "eta_BH = 0.24611414068388132\n"
     ]
    }
   ],
   "source": [
    "M_NS=1.4*Msun\n",
    "M_BH=Msun\n",
    "r_NS=10**6\n",
    "r_BH=3*10**5\n",
    "\n",
    "eta_NS=0.5*(Gcont*M_NS/ccont**2/r_NS)\n",
    "eta_BH=0.5*(Gcont*M_BH/ccont**2/r_BH)\n",
    "print('eta_NS =',eta_NS)\n",
    "print('eta_BH =',eta_BH)"
   ]
  },
  {
   "cell_type": "code",
   "execution_count": null,
   "metadata": {},
   "outputs": [],
   "source": [
    "# Please calculate the luminosity of the cataclysmic variiable accretion disk \n",
    "# (the mass of the white dwarf is one sola rmass, the radius is 1e4 km, and the accretion rate is 1e-9 solar mass per year)\n",
    "\n",
    "# Please calculate the disk temperature at the white dwarf surface (the maximum temperature). So at what wavelength does the disk emission peak?"
   ]
  },
  {
   "cell_type": "markdown",
   "metadata": {},
   "source": [
    "\\begin{eqnarray}\n",
    "L={1 \\over 2}{GM\\dot{m} \\over r_{wd}} = 4 \\times 10^{33}~{\\rm erg/s}\\sim L_{\\odot}\n",
    "\\end{eqnarray}\n",
    "\n",
    "\\begin{eqnarray}\n",
    "T(r)=({GM\\dot{m} \\over 8\\pi\\sigma})^{1/4} r^{-3/4}\\sim 50000K\n",
    "\\end{eqnarray}\n",
    "\n",
    "\\begin{eqnarray}\n",
    "\\lambda_{max}={0.29~{\\rm cm~K} \\over T}\\sim 6 \\mu m\n",
    "\\end{eqnarray}"
   ]
  },
  {
   "cell_type": "code",
   "execution_count": 8,
   "metadata": {},
   "outputs": [
    {
     "name": "stdout",
     "output_type": "stream",
     "text": [
      "4.182529007140805e+33\n",
      "49221.14884043661\n",
      "5.8917763366335025e-06\n"
     ]
    }
   ],
   "source": [
    "M_wd=Msun\n",
    "dm_s=1e-9*Msun/yr\n",
    "r_wd=1e4*10**5\n",
    "L=(1/2)*(Gcont*M_wd*dm_s/r_wd)\n",
    "print(L)\n",
    "\n",
    "T=(Gcont*M_wd*dm_s/8/pi/sigmacont)**(1/4)*r_wd**(-3/4)\n",
    "print(T)\n",
    "lambda_max=0.29/T\n",
    "print(lambda_max)"
   ]
  },
  {
   "cell_type": "markdown",
   "metadata": {},
   "source": [
    "## Homework (due Oct 18 )\n",
    "\n",
    "## Chapter 4,  question 10"
   ]
  },
  {
   "cell_type": "markdown",
   "metadata": {},
   "source": [
    "The maximum accreting radiation luminosity is Eddington luminosity, which is expressed as\n",
    "\\begin{eqnarray}\n",
    "L_E = {4 \\pi c G M m_p \\over \\sigma_T}.\n",
    "\\end{eqnarray}\n",
    "Consider the astronut as a particle with mass $m$ and cross-section equal to the geometrical cross section. For each photon-astronut collision, the photon would be totally reflected, thus the momentum transfered to the astronut is $p=2h\\nu / c$. The density of photons with energy $h \\nu$ at $r$ is,\n",
    "\\begin{eqnarray}\n",
    "n_{ph}={L_\\nu \\over 4\\pi r^2 c h\\nu},\n",
    "\\end{eqnarray}\n",
    "The scattering rate is \n",
    "\\begin{eqnarray}\n",
    "R=n_{ph}Ac\n",
    "\\end{eqnarray}\n",
    "\\begin{eqnarray}\n",
    "{dp \\over dt}=R{2 h\\nu \\over c}={L_\\nu \\over 4\\pi r^2 c h\\nu}Ac{2 h\\nu \\over c}={L_\\nu A \\over 2\\pi r^2 c}.\n",
    "\\end{eqnarray}\n",
    "Integral all the frequency, we know\n",
    "\\begin{eqnarray}\n",
    "{dp \\over dt}={L A \\over 2\\pi r^2 c}<{L_E A \\over 2\\pi r^2 c}\n",
    "\\end{eqnarray}\n",
    "The gravitational force acted on the astronut is\n",
    "\\begin{eqnarray}\n",
    "F_{gra}={G M m \\over r^2},\n",
    "\\end{eqnarray}\n",
    "To support the astronut not to fall into the central object, we have\n",
    "\\begin{eqnarray}\n",
    "{G M m \\over r^2}<L_E={4 \\pi GM c m_p \\over \\sigma_T}{A \\over 2\\pi r^2 c}\n",
    "\\end{eqnarray}\n",
    "\\begin{eqnarray}\n",
    "m < {2 m_p \\over \\sigma_T}A\n",
    "\\end{eqnarray}\n"
   ]
  },
  {
   "cell_type": "code",
   "execution_count": null,
   "metadata": {},
   "outputs": [],
   "source": [
    "A=1.5*10**4\n",
    "mmax=2*mh*A/sig"
   ]
  }
 ],
 "metadata": {
  "kernelspec": {
   "display_name": "Python 3",
   "language": "python",
   "name": "python3"
  },
  "language_info": {
   "codemirror_mode": {
    "name": "ipython",
    "version": 3
   },
   "file_extension": ".py",
   "mimetype": "text/x-python",
   "name": "python",
   "nbconvert_exporter": "python",
   "pygments_lexer": "ipython3",
   "version": "3.7.3"
  }
 },
 "nbformat": 4,
 "nbformat_minor": 2
}
