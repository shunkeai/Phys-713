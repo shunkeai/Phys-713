{
 "cells": [
  {
   "cell_type": "code",
   "execution_count": 1,
   "metadata": {},
   "outputs": [],
   "source": [
    "# read in library and constants\n",
    "import numpy as np, os, sys\n",
    "import matplotlib.pylab as p\n",
    "\n",
    "sigmacont=5.67051e-5\n",
    "acont=7.5657e-15\n",
    "ev=1.602e-12\n",
    "hcont=6.62607004e-27\n",
    "ccont=2.99792458e10\n",
    "kcont=1.38064852e-16\n",
    "rcont=8.314472e7\n",
    "me=9.1093837015e-28\n",
    "Gcont=6.67259e-8\n",
    "Msun=1.989e33\n",
    "Mearth=5.972e27\n",
    "Mjupiter=1.898e30\n",
    "Lsun=3.827e33\n",
    "rsun=6.9599e10\n",
    "rjupiter=7.149e9\n",
    "rearth=6.371e8\n",
    "au=1.49598e13\n",
    "pc=3.085678e18\n",
    "mh=1.67352e-24\n",
    "yr=365.2425*24.*3600\n",
    "pi=3.1415926"
   ]
  },
  {
   "cell_type": "markdown",
   "metadata": {},
   "source": [
    "## Chapter 9, Q 3"
   ]
  },
  {
   "cell_type": "markdown",
   "metadata": {},
   "source": [
    "(a) We have proved in the last homework, for $k=0$ and $\\Omega_{\\Lambda}=1$, $R(t)\\propto {\\rm exp}(Ht)$, where $H=(\\Lambda/3)^{1/2}$ is Hubble constant. \n",
    "Let $R(t)=R_0{\\rm exp}(Ht)$. The path of light along $ds^2 = 0$. Thus\n",
    "\n",
    "\\begin{eqnarray}\n",
    "0=c^2 dt^2 - R(t)^2 dr^2\n",
    "\\end{eqnarray}\n",
    "\n",
    "\\begin{eqnarray}\n",
    "cdt=R(t)dr\n",
    "\\end{eqnarray}\n",
    "\n",
    "\\begin{eqnarray}\n",
    "c~{\\rm exp}(-Ht)dt = R_0dr\n",
    "\\end{eqnarray}\n",
    "\n",
    "The event horizon means, if we send a light at this time, the galaxies beyond the event horizon will never receive our signal. So it can be expressed as\n",
    "\n",
    "\\begin{eqnarray}\n",
    "\\int_{0}^{\\infty}c \\ {\\rm exp}(-Ht)dt = R_0\\int_0^{r_{eh}}dr, \n",
    "\\end{eqnarray}\n",
    "\n",
    "we have,\n",
    "\n",
    "\\begin{eqnarray}\n",
    "r_{eh}={1 \\over R_0}{c \\over H}{\\rm exp}(-Ht),\n",
    "\\end{eqnarray}\n",
    "\n",
    "where $H$ is a constant. So $r_{eh}$ shrinks exponentially."
   ]
  },
  {
   "cell_type": "markdown",
   "metadata": {},
   "source": [
    "(b) We know the comoving radius of Virgo $r_{Virgo}=(15{\\rm Mpc}/ R_0)$, let $r_{eh}=r_{Virgo}$, \n",
    "\n",
    "\\begin{eqnarray}\n",
    "15{\\rm Mpc}={c \\over H}{\\rm exp}(-Ht),\n",
    "\\end{eqnarray}\n",
    "\n",
    "where $H=H_0=70 {\\rm km~s^{-1} Mpc}$. Solve the equation we have $t \\sim 79 {\\rm Gyr}$\n"
   ]
  },
  {
   "cell_type": "code",
   "execution_count": 6,
   "metadata": {},
   "outputs": [
    {
     "name": "stdout",
     "output_type": "stream",
     "text": [
      "t= 78983501372.77693 yr\n"
     ]
    }
   ],
   "source": [
    "H=70\n",
    "c=ccont/1e5\n",
    "t=-np.log(15*H/c)/(H*1e5/1e6/pc)\n",
    "print('t=',t/yr,'yr')"
   ]
  },
  {
   "cell_type": "code",
   "execution_count": null,
   "metadata": {},
   "outputs": [],
   "source": []
  }
 ],
 "metadata": {
  "kernelspec": {
   "display_name": "Python 3",
   "language": "python",
   "name": "python3"
  },
  "language_info": {
   "codemirror_mode": {
    "name": "ipython",
    "version": 3
   },
   "file_extension": ".py",
   "mimetype": "text/x-python",
   "name": "python",
   "nbconvert_exporter": "python",
   "pygments_lexer": "ipython3",
   "version": "3.7.3"
  }
 },
 "nbformat": 4,
 "nbformat_minor": 2
}
