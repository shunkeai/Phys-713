{
 "cells": [
  {
   "cell_type": "code",
   "execution_count": 1,
   "metadata": {},
   "outputs": [],
   "source": [
    "import numpy as np\n",
    "\n",
    "sigmacont=5.67051e-5\n",
    "acont=7.5657e-15\n",
    "ev=1.602e-12\n",
    "hcont=6.625e-27\n",
    "ccont=3.e10\n",
    "kcont=1.381e-16\n",
    "rcont=8.314472e7\n",
    "me=9.109e-28\n",
    "Gcont=6.67e-8\n",
    "Msun=1.989e33\n",
    "Mearth=5.972e27\n",
    "Mjupiter=1.898e30\n",
    "Lsun=3.827e33\n",
    "rsun=6.96e10\n",
    "rjupiter=7.149e9\n",
    "rearth=6.371e8\n",
    "au=1.49598e13\n",
    "pc=3.085678e18\n",
    "mh=1.67352e-24\n",
    "yr=365.*24.*3600\n",
    "pi=3.1415926"
   ]
  },
  {
   "cell_type": "markdown",
   "metadata": {},
   "source": [
    "# Chapter 2, Question 4"
   ]
  },
  {
   "cell_type": "markdown",
   "metadata": {},
   "source": [
    "a). Assume the inclination of the binary is $i$. The orbital velocity of the two objected in observational direction could be expressed as $v_1 {\\rm sin}(i)$ and $v_2 {\\rm sin}(i) $, where $v_1$ and $v_2$ represent their intrinsic orbital velocity. \n",
    "\n",
    "\\begin{eqnarray}\n",
    "{M_1 \\over M_2}={v_2 \\over v_1}={v_2 {\\rm sin}(i) \\over v_1 {\\rm sin}(i)}={200 {\\rm km/s} \\over 100{\\rm km/s}}={2 \\over 1}\n",
    "\\end{eqnarray}\n",
    "\n",
    "b). Since \n",
    "\\begin{eqnarray}\n",
    "(M_1+M_2){\\rm sin}^3 i = {\\tau(|v_{\\rm 1,obs}|+|v_{\\rm 1,obs}|)^3 \\over 2\\pi G}=1.11\\times 10^{34}g\n",
    "\\end{eqnarray}\n",
    "\n",
    "\\begin{eqnarray}\n",
    "M_1{\\rm sin^3}(i)={2 \\over 3}M_{\\rm tot}sin^3(i)=3.7M_{\\odot}\n",
    "\\end{eqnarray}\n",
    "\n",
    "\\begin{eqnarray}\n",
    "M_2{\\rm sin^3}(i)={1 \\over 3}M_{\\rm tot}sin^3(i)=1.9M_{\\odot}\n",
    "\\end{eqnarray}\n",
    "\n",
    "c) In the spherical coordinate ($r, \\theta, \\phi$), \n",
    "\\begin{eqnarray}\n",
    "d\\Omega={\\rm sin}\\theta d\\theta d\\phi\n",
    "\\end{eqnarray}\n",
    "\n",
    "\\begin{eqnarray}\n",
    "<{sin^3}(\\theta)>={\\oint sin^3\\theta d\\Omega \\over 4\\pi}={1 \\over 4\\pi}\\oint sin^4\\theta d\\theta d\\phi={1\\over 2}\\int_0^{\\pi} sin^4\\theta d\\theta={{1\\over 2}\\pi-{1\\over 8}\\pi \\over 2}={3\\pi \\over 16}\n",
    "\\end{eqnarray}\n",
    "\n",
    "\\begin{eqnarray}\n",
    "M_1={3.7M_{\\odot} \\over {3\\pi \\over 16}}=6.3M_{\\odot}\n",
    "\\end{eqnarray}\n",
    "\n",
    "\\begin{eqnarray}\n",
    "M_1={1.9M_{\\odot} \\over {3\\pi \\over 16}}=3.2M_{\\odot}\n",
    "\\end{eqnarray}"
   ]
  },
  {
   "cell_type": "code",
   "execution_count": 6,
   "metadata": {},
   "outputs": [
    {
     "name": "stdout",
     "output_type": "stream",
     "text": [
      "1.1132733360661784e+34\n",
      "3.731434007260528 1.865717003630264\n"
     ]
    }
   ],
   "source": [
    "tau=2*24*3600\n",
    "v1obs=100*10**5\n",
    "v2obs=200*10**5\n",
    "\n",
    "Mtot=tau*(v1obs+v2obs)**3/(2*pi*Gcont)/Msun\n",
    "print(Mtot*Msun)\n",
    "\n",
    "M1=Mtot/3*2\n",
    "M2=Mtot/3*1\n",
    "\n",
    "print(M1,M2)"
   ]
  },
  {
   "cell_type": "code",
   "execution_count": 18,
   "metadata": {},
   "outputs": [
    {
     "name": "stdout",
     "output_type": "stream",
     "text": [
      "M1= 6.281315194507822\n",
      "M2= 3.22554023501753\n"
     ]
    }
   ],
   "source": [
    "print('M1=',3.7/3/pi*16)\n",
    "print('M2=',1.9/3/pi*16)"
   ]
  }
 ],
 "metadata": {
  "kernelspec": {
   "display_name": "Python 3",
   "language": "python",
   "name": "python3"
  },
  "language_info": {
   "codemirror_mode": {
    "name": "ipython",
    "version": 3
   },
   "file_extension": ".py",
   "mimetype": "text/x-python",
   "name": "python",
   "nbconvert_exporter": "python",
   "pygments_lexer": "ipython3",
   "version": "3.7.3"
  }
 },
 "nbformat": 4,
 "nbformat_minor": 2
}
