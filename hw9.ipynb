{
 "cells": [
  {
   "cell_type": "code",
   "execution_count": 2,
   "metadata": {},
   "outputs": [],
   "source": [
    "# read in library and constants\n",
    "import numpy as np, os, sys\n",
    "import matplotlib.pylab as p\n",
    "\n",
    "sigmacont=5.67051e-5\n",
    "acont=7.5657e-15\n",
    "ev=1.602e-12\n",
    "hcont=6.62607004e-27\n",
    "ccont=2.99792458e10\n",
    "kcont=1.38064852e-16\n",
    "rcont=8.314472e7\n",
    "me=9.1093837015e-28\n",
    "Gcont=6.67259e-8\n",
    "Msun=1.989e33\n",
    "Mearth=5.972e27\n",
    "Mjupiter=1.898e30\n",
    "Lsun=3.827e33\n",
    "rsun=6.9599e10\n",
    "rjupiter=7.149e9\n",
    "rearth=6.371e8\n",
    "au=1.49598e13\n",
    "pc=3.085678e18\n",
    "mh=1.67352e-24\n",
    "yr=365.2425*24.*3600\n",
    "pi=3.1415926"
   ]
  },
  {
   "cell_type": "code",
   "execution_count": 8,
   "metadata": {},
   "outputs": [],
   "source": [
    "# Assuming the Compton \\gamma parameter for a cluster with kT_e=10 keV, ne=0.001 cm^-3 is 4e-5, what is the cluster size?\n",
    "# The Thomson cross section is 6.7e-25 cm^2.\n"
   ]
  },
  {
   "cell_type": "code",
   "execution_count": 8,
   "metadata": {},
   "outputs": [
    {
     "name": "stdout",
     "output_type": "stream",
     "text": [
      "3.05107636977058e+24\n",
      "D = 0.9887863768580456 Mpc\n"
     ]
    }
   ],
   "source": [
    "dEoverE=4e-5\n",
    "kT_e=10*10**3*ev\n",
    "ne=0.001\n",
    "sigmaT=6.7e-25\n",
    "\n",
    "D=dEoverE*me*ccont**2/kT_e/sigmaT/ne\n",
    "print(D)\n",
    "print('D =', D/pc/10**6, 'Mpc')"
   ]
  },
  {
   "cell_type": "markdown",
   "metadata": {},
   "source": [
    "# Homework: due Nov 15th, Chapter 8: question 3, Chapter 9: question 1,2"
   ]
  },
  {
   "cell_type": "markdown",
   "metadata": {},
   "source": [
    "## Chapter 8\n",
    "### 3 (a)\n",
    "Assume the diameter of the cluster is $d$, the possibility of one photon being scattered in length $d$ is\n",
    "\\begin{eqnarray}\n",
    "P=n_e\\sigma_T d = 0.001.\n",
    "\\end{eqnarray}\n",
    "The mass of hot gas can be expressed as\n",
    "\\begin{eqnarray}\n",
    "M_h=n_e m_p {4 \\over 3}\\pi ({d \\over 3})^3={1 \\over 6}\\pi n_e m_p d^2 = 0.15\\times 2\\times 10^{14}M_{\\odot} \n",
    "\\end{eqnarray}\n",
    "\n",
    "Combine the two equations, we have $d=2.2{\\rm Mpc}$\n",
    "### (b)\n",
    "$1^{\\circ}=(\\pi/180) \\ rad$. The distance of the cluster can be estimated as\n",
    "\\begin{eqnarray}\n",
    "D_A={d \\over(\\pi / 180)}=125 {\\rm Mpc}\n",
    "\\end{eqnarray}\n",
    "### (c)\n",
    "\\begin{eqnarray}\n",
    "H_0={v \\over D}={8400 \\ {\\rm km~s^{-1}} \\over 125 \\ {\\rm Mpc}}=67.2 \\ {\\rm km~s^{-1}{\\rm Mpc^{-1}}}\n",
    "\\end{eqnarray}"
   ]
  },
  {
   "cell_type": "code",
   "execution_count": 13,
   "metadata": {},
   "outputs": [
    {
     "name": "stdout",
     "output_type": "stream",
     "text": [
      "d = 2.189021641743795 Mpc\n",
      "D= 125.42170347418157 Mpc\n",
      "H0 = 67.2\n"
     ]
    }
   ],
   "source": [
    "sigmaT=6.7e-25\n",
    "d2=0.15*2*10**14*Msun*1000*sigmaT*6/pi/mh\n",
    "d=np.sqrt(d2)\n",
    "print('d =',d/pc/1e6,'Mpc')\n",
    "D_A=d/pi*180\n",
    "print('D=',D_A/pc/1e6, 'Mpc')\n",
    "v=8400\n",
    "D=125\n",
    "H0=v/D\n",
    "print('H0 =',H0)"
   ]
  },
  {
   "cell_type": "markdown",
   "metadata": {},
   "source": [
    "## Chapter 9\n",
    "### 1\n",
    "Light moves along $ds^2=0$ where $ds^2=c^2 dt^2-R(t)^2{dr^2 \\over 1-kr^2}$. Consider a mass-dominated universe, we have\n",
    "\\begin{eqnarray}\n",
    "R(t) \\propto t^{2/3}.\n",
    "\\end{eqnarray}\n",
    "Also we have $k=0$, thus\n",
    "\\begin{eqnarray}\n",
    "0=c^2dt^2-R_0^2({t \\over t_0})^{4/3} dr^2\n",
    "\\end{eqnarray}\n",
    "\\begin{eqnarray}\n",
    "cdt \\ t^{-2/3}t_0^{2/3} = R_0 dt\n",
    "\\end{eqnarray}\n",
    "\\begin{eqnarray}\n",
    "t_0^{2/3}c\\int_0^{t_0}t^{-2/3}dt=R_0\\int_0^{r_h}dr\n",
    "\\end{eqnarray}\n",
    "\\begin{eqnarray}\n",
    "r_h R_0 = 3ct_0\n",
    "\\end{eqnarray}\n",
    "\n",
    "The horzon is greater than $ct_0$ because the universe is expanding. Since the photons we recieve came from the past, where the scale factor is smaller than today's. Today, the proper distance of an object is greater than the proper distance when it emitted the photons, which is observed by us.\n",
    "\n",
    "### 2\n",
    "For a dark energy dominated universe, \n",
    "\\begin{eqnarray}\n",
    "{\\ddot{R} \\over R}={\\Lambda \\over 3},\n",
    "\\end{eqnarray}\n",
    "Solve this differential equation we got\n",
    "\\begin{eqnarray}\n",
    "R(t)=C_1 {\\rm exp}(({\\Lambda \\over 3})^{1/2}t)+C_2{\\rm exp}((-{\\Lambda \\over 3})^{1/2}t)\n",
    "\\end{eqnarray}\n",
    "\n",
    "with the boundary condition that $R=R_0$ when $t=0$, and ${\\dot{R_0} \\over R_0}=H_0$ we have obtain\n",
    "\\begin{eqnarray}\n",
    "C_1 + C_2 &=&R_0 \\\\\n",
    "H_0={\\dot{R}|_{t=0} \\over R_0}&=&({\\Lambda \\over 3})^{1/2}{C_1-C_2 \\over R_0}.\n",
    "\\end{eqnarray}\n",
    "Combine this two equations, we have $C_1=R_0$ and $C_2=0$, also $H_0=({\\Lambda \\over 3})^{1/2}$. Thus the evolution of scale factor follows\n",
    "\\begin{eqnarray}\n",
    "R(t) = R_0{\\rm exp}(H_0t)\n",
    "\\end{eqnarray}\n",
    "Substitute $k=0$ and $R(t) = R_0{\\rm exp}(H_0t)$ to the metric, also with $ds^2=0$,\n",
    "\\begin{eqnarray}\n",
    "c^2dt^2=[R_0{\\rm exp}(H_0t)]^2 dr^2\n",
    "\\end{eqnarray}\n",
    "\\begin{eqnarray}\n",
    "cdt=R_0{\\rm exp}(H_0t) dr\n",
    "\\end{eqnarray}\n",
    "\n",
    "\\begin{eqnarray}\n",
    "c \\int_0^t {\\rm exp}(-H_0t)dt = R_0 \\int_{0}^{r_h}dr\n",
    "\\end{eqnarray}\n",
    "\n",
    "\\begin{eqnarray}\n",
    "c(-{1 \\over H_0})[{\\rm exp}(-H_0 t)-1] = R_0r_h\n",
    "\\end{eqnarray}\n",
    "\n",
    "\\begin{eqnarray}\n",
    "r_h = -{c \\over H_0 R_0}[{\\rm exp}(-H_0 t)-1] \\sim {c \\over H_0 R_0}\n",
    "\\end{eqnarray}"
   ]
  },
  {
   "cell_type": "code",
   "execution_count": null,
   "metadata": {},
   "outputs": [],
   "source": []
  }
 ],
 "metadata": {
  "kernelspec": {
   "display_name": "Python 3",
   "language": "python",
   "name": "python3"
  },
  "language_info": {
   "codemirror_mode": {
    "name": "ipython",
    "version": 3
   },
   "file_extension": ".py",
   "mimetype": "text/x-python",
   "name": "python",
   "nbconvert_exporter": "python",
   "pygments_lexer": "ipython3",
   "version": "3.7.3"
  }
 },
 "nbformat": 4,
 "nbformat_minor": 2
}
