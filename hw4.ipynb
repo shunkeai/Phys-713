{
 "cells": [
  {
   "cell_type": "code",
   "execution_count": 1,
   "metadata": {},
   "outputs": [],
   "source": [
    "# read in library and constants\n",
    "import numpy as np, os, sys\n",
    "import matplotlib.pylab as p\n",
    "\n",
    "sigmacont=5.67051e-5\n",
    "acont=7.5657e-15\n",
    "ev=1.602e-12\n",
    "hcont=6.62607004e-27\n",
    "ccont=2.99792458e10\n",
    "kcont=1.38064852e-16\n",
    "rcont=8.314472e7\n",
    "me=9.1093837015e-28\n",
    "Gcont=6.67259e-8\n",
    "Msun=1.989e33\n",
    "Mearth=5.972e27\n",
    "Mjupiter=1.898e30\n",
    "Lsun=3.827e33\n",
    "rsun=6.9599e10\n",
    "rjupiter=7.149e9\n",
    "rearth=6.371e8\n",
    "au=1.49598e13\n",
    "pc=3.085678e18\n",
    "mh=1.67352e-24\n",
    "yr=365.2425*24.*3600\n",
    "pi=3.1415926"
   ]
  },
  {
   "cell_type": "markdown",
   "metadata": {},
   "source": [
    "## Homework due on Oct 4th\n",
    "\n",
    "## Chapter 4, questions 1,2"
   ]
  },
  {
   "cell_type": "markdown",
   "metadata": {},
   "source": [
    " ## 1\n",
    " \n",
    "#### (a)\n",
    "Since \n",
    "\\begin{eqnarray}\n",
    "n_e={8 \\pi \\over 3 h^3}p_F^3,\n",
    "\\end{eqnarray}\n",
    "where\n",
    "\\begin{eqnarray}\n",
    "p_F = \\sqrt{2m_e E_F}\n",
    "\\end{eqnarray}. \n",
    "Subustitute the second equation to the first one, we have\n",
    "\\begin{eqnarray}\n",
    "n_e={{8 \\pi \\over 3 h^3}}{2m_e E_F}^{3/2}\n",
    "\\end{eqnarray}\n",
    "\\begin{eqnarray}\n",
    "E_F={h^2 \\over 2m_e }({3n_e \\over 8\\pi})^{2/3}\n",
    "\\end{eqnarray}\n",
    "\n",
    "#### (b)\n",
    "For a typical white dwarf, $n_e=\\cal{Z}n_{+}=\\cal{Z}{\\rho \\over A m_p} \\approx 0.5 {\\rho \\over m_p}$, where $\\rho \\sim 10^6 {g~cm^{-3}}$. So $n_e \\sim 3\\times 10^{29}~{cm^{-3}}$. From (a), \n",
    "\\begin{eqnarray}\n",
    "E_F \\sim 2.6 \\times 10^{-7}~{\\rm erg}\n",
    "\\end{eqnarray}\n",
    "The thermal energy of an electron is\n",
    "\\begin{eqnarray}\n",
    "E_{th}={3 \\over 2} kT \\sim 2\\times 10^{-9} {\\rm erg}.\n",
    "\\end{eqnarray}\n",
    "$E_{th}/E_F \\sim 0.01$, so that the electrons inside a white frawf are indeed degenerate. "
   ]
  },
  {
   "cell_type": "code",
   "execution_count": 5,
   "metadata": {},
   "outputs": [
    {
     "name": "stdout",
     "output_type": "stream",
     "text": [
      "2.9877145179023858e+29\n",
      "2.610999085622247e-07\n",
      "2.07097278e-09\n"
     ]
    }
   ],
   "source": [
    "rho=10**6\n",
    "ne=0.5*(rho/mh)\n",
    "print(ne)\n",
    "\n",
    "EF=(hcont**2/2/me)*(3*ne/8/pi)**(2/3)\n",
    "print(EF)\n",
    "T=10**7\n",
    "Eth=(3/2)*kcont*T\n",
    "print(Eth)"
   ]
  },
  {
   "cell_type": "markdown",
   "metadata": {},
   "source": [
    "## 2\n",
    "#### (a)\n",
    "\n",
    "Assume the white-dwarf formation rate is a constant. Knowing that $L \\propto T^4$ and $dT/dt \\propto T^4$, we can obtain that\n",
    "\\begin{eqnarray}\n",
    "{dL \\over dt}={d(T^4) \\over dt}\\propto T^3 {dT \\over dt} \\propto T^7 \\propto L^{7/4}\n",
    "\\end{eqnarray}\n",
    "\n",
    "\\begin{eqnarray}\n",
    "{dN \\over dL}={dN \\over dt}{dt \\over dL} \\propto ({dL \\over dt})^{-1} \\propto L^{-7/4}\n",
    "\\end{eqnarray}\n",
    "\n",
    "#### (b)\n",
    "\\begin{eqnarray}\n",
    "L_{min}&=&4 \\pi r_{wd}^2 \\sigma T_{\\rm E,min}^4 \\\\\n",
    "&=& 4 \\pi (8.5\\times 10^7 cm)^2~\\sigma ~4000K \\\\\n",
    "&\\sim& 1.3 \\times 10^{29} {\\rm erg/s} \\\\\n",
    "&\\sim& 3\\times 10^{-5} L_{\\odot}\n",
    "\\end{eqnarray}"
   ]
  },
  {
   "cell_type": "code",
   "execution_count": 12,
   "metadata": {},
   "outputs": [
    {
     "name": "stdout",
     "output_type": "stream",
     "text": [
      "1.3179829558966563e+29\n",
      "3.443906338899023e-05\n"
     ]
    }
   ],
   "source": [
    "r_wd=8.5*10**8\n",
    "T_min=4000\n",
    "L=4*pi*r_wd**2*sigmacont*T_min**4\n",
    "print(L)\n",
    "print(L/Lsun)\n"
   ]
  },
  {
   "cell_type": "code",
   "execution_count": null,
   "metadata": {},
   "outputs": [],
   "source": []
  }
 ],
 "metadata": {
  "kernelspec": {
   "display_name": "Python 3",
   "language": "python",
   "name": "python3"
  },
  "language_info": {
   "codemirror_mode": {
    "name": "ipython",
    "version": 3
   },
   "file_extension": ".py",
   "mimetype": "text/x-python",
   "name": "python",
   "nbconvert_exporter": "python",
   "pygments_lexer": "ipython3",
   "version": "3.7.3"
  }
 },
 "nbformat": 4,
 "nbformat_minor": 2
}
