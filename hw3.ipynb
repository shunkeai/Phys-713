{
 "cells": [
  {
   "cell_type": "code",
   "execution_count": 1,
   "metadata": {},
   "outputs": [],
   "source": [
    "# read in library and constants\n",
    "import numpy as np, os, sys\n",
    "import matplotlib.pylab as p\n",
    "\n",
    "sigmacont=5.67051e-5\n",
    "acont=7.5657e-15\n",
    "ev=1.602e-12\n",
    "hcont=6.62607004e-27\n",
    "ccont=2.99792458e10\n",
    "kcont=1.38064852e-16\n",
    "rcont=8.314472e7\n",
    "me=9.1093837015e-28\n",
    "Gcont=6.67259e-8\n",
    "Msun=1.989e33\n",
    "Mearth=5.972e27\n",
    "Mjupiter=1.898e30\n",
    "Lsun=3.827e33\n",
    "rsun=6.9599e10\n",
    "rjupiter=7.149e9\n",
    "rearth=6.371e8\n",
    "au=1.49598e13\n",
    "pc=3.085678e18\n",
    "mh=1.67352e-24\n",
    "yr=365.2425*24.*3600\n",
    "pi=3.1415926"
   ]
  },
  {
   "cell_type": "markdown",
   "metadata": {},
   "source": [
    "## reminder: Homework due on Sep 27th\n",
    "\n",
    "## Chapter 3, questions 2,4,6 "
   ]
  },
  {
   "cell_type": "markdown",
   "metadata": {},
   "source": [
    "### 2\n",
    "\\begin{eqnarray}\n",
    "P=P_g+P_{\\rm rad}={\\rho k T \\over \\bar{m}}+{1 \\over 3}aT^4\n",
    "\\end{eqnarray}\n",
    "\n",
    "We have the density of the sun is $\\rho \\sim 1.4 {\\rm cm} $, $\\bar{m}=0.61m_{H}$. If $P_{\\rm rad}<P_{g}$, which means ${1 \\over 3}aT^4<{\\rho k T \\over \\bar{m}}$, the kinetic pressure dominates. The temperature $T$ should satisfy\n",
    "\\begin{eqnarray}\n",
    "T < ({3 \\rho k \\over a \\overline{m}})^{1/3}\\sim 4\\times 10^{7}K.\n",
    "\\end{eqnarray}\n",
    "\n",
    "So the kinetic pressure dominates where the internal temperature is about $10^{7}K$"
   ]
  },
  {
   "cell_type": "code",
   "execution_count": 4,
   "metadata": {},
   "outputs": [
    {
     "name": "stdout",
     "output_type": "stream",
     "text": [
      "42186567.24515276\n"
     ]
    }
   ],
   "source": [
    "###### 2 ########\n",
    "rho=1.4\n",
    "m_bar=0.61*mh\n",
    "T=(3*rho*kcont/acont/m_bar)**(1/3)\n",
    "print(T)"
   ]
  },
  {
   "cell_type": "markdown",
   "metadata": {},
   "source": [
    "### 3\n",
    "#### a)\n",
    "Assume the density of the hypothetical star is a constant, thus $M={4 \\over 3}\\pi \\rho r^3$, the force balance equation could be writen as \n",
    "\\begin{eqnarray}\n",
    "{dP(r) \\over dr}=-{GM(r)\\rho \\over r^2}=-{4 \\over 3}G\\rho^2 \\pi r\n",
    "\\end{eqnarray}\n",
    "\n",
    "Solve this differential equation with the boundary condition $P(R)=0$.\n",
    "\\begin{eqnarray}\n",
    "0-P(r)=-\\int_r^R {4 \\over 3}G \\rho^2 \\pi r\n",
    "\\end{eqnarray}\n",
    "\n",
    "\\begin{eqnarray}\n",
    "P(r)={2\\pi \\over 3}G \\rho^2 (R^2 - r^2)\n",
    "\\end{eqnarray}\n",
    "\n",
    "#### b)\n",
    "When the gas pressure equals the radiation pressure, we have\n",
    "\\begin{eqnarray}\n",
    "T =({3 \\rho k \\over a \\overline{m}})^{1/3}\n",
    "\\end{eqnarray}\n",
    "\n",
    "The mean partical mass for a fully ionized hydrogen star is \n",
    "\\begin{eqnarray}\n",
    "\\bar{m}={n_p m_p+n_e m_e \\over n_p+n_e}={1 \\over 2}m_H\n",
    "\\end{eqnarray}\n",
    "\n",
    "In the region where gas pressure dominates, \n",
    "\\begin{eqnarray}\n",
    "T(r)={P(r) \\over nk}={P(r) \\over  {\\rho \\over {\\bar{m}}}k}={{2\\pi \\over 3}G \\rho^2 (R^2 - r^2) \\over {\\rho \\over {\\bar{m}}}k}={2\\pi G\\rho \\bar{m}\\over 3k}(R^2-r^2)={\\pi G\\rho m_H\\over 3k}(R^2-r^2)\n",
    "\\end{eqnarray}\n",
    "\n",
    "In the region where radiation pressure dominates,\n",
    "\\begin{eqnarray}\n",
    "T(r)=\\left({2\\pi G \\rho^2 (R^2 - r^2) \\over a }\\right)^{1/4}\n",
    "\\end{eqnarray}\n",
    "\n",
    "\n",
    "#### c) \n",
    "\n",
    "If the star is dominated by gas pressure, \n",
    "\\begin{eqnarray}\n",
    "\\epsilon \\sim T^4  \\sim (R^2-r^2)^4\n",
    "\\end{eqnarray}\n",
    "\n",
    "\\begin{eqnarray}\n",
    "{\\epsilon \\over \\epsilon_{cen}}={(R^2 - r^2)^4 \\over (R^2)^4}=0.1\n",
    "\\end{eqnarray}\n",
    "\n",
    "\\begin{eqnarray}\n",
    "r=0.66R\n",
    "\\end{eqnarray}\n",
    "\n",
    "\n",
    "If the star is dominated by radiation pressure,\n",
    "\\begin{eqnarray}\n",
    "\\epsilon \\sim T^4  \\sim {(R^2-r^2) \\over R^2}=0.1\n",
    "\\end{eqnarray}\n",
    "\n",
    "\\begin{eqnarray}\n",
    "r=0.95 R\n",
    "\\end{eqnarray}"
   ]
  },
  {
   "cell_type": "markdown",
   "metadata": {},
   "source": [
    "### 6 \n",
    "#### a) \n",
    "\\begin{eqnarray}\n",
    "\\bar{m}={24n_c m_p+n_e m_e \\over n_c + n_e}={ 12n_c m_p \\over n_c +6 n_c}={12 \\over 7}m_H\n",
    "\\end{eqnarray}\n",
    "\n",
    "#### b) \n",
    "\\begin{eqnarray}\n",
    "P \\sim nkT\n",
    "\\end{eqnarray}\n",
    "\n",
    "\n",
    "\\begin{eqnarray}\n",
    "{GM \\rho \\over r_*}\\sim P \\sim nkT\n",
    "\\end{eqnarray}\n",
    "\n",
    "\\begin{eqnarray}\n",
    "r_*={GM\\rho \\over nkT_c}={GM \\over kT_c}\\bar{m}\\sim 0.7M_{\\odot}\n",
    "\\end{eqnarray}\n",
    "\n",
    "#### c)\n",
    "\n",
    "According to Stefan-Boltzmann law, \n",
    "\\begin{eqnarray}\n",
    "L=4\\pi r_*^2 \\sigma T_{\\rm eff}^4\n",
    "\\end{eqnarray}\n",
    "\n",
    "\\begin{eqnarray}\n",
    "T_{\\rm eff}=\\left({L \\over 4\\pi r_*^2 \\sigma}\\right)^{1/4} \\sim 4 \\times 10^5 K\n",
    "\\end{eqnarray}\n",
    "\n",
    "#### d)\n",
    "The mass defect of individual reaction is \n",
    "\\begin{eqnarray}\n",
    "\\Delta m = 2m_C-m_{Mg}\\sim 0.15m_{aw},\n",
    "\\end{eqnarray}\n",
    "where \"aw\" stands for \"atomic mass\"\n",
    "\n",
    "The number of this reaction could be estimated as \n",
    "\\begin{eqnarray}\n",
    "N={M_*\\over 24m_{aw}}.\n",
    "\\end{eqnarray}\n",
    "\n",
    "The fraction of mass which can be converted to thermal energy is\n",
    "\\begin{eqnarray}\n",
    "F= {N\\Delta m \\over M_*}=0.15/24 \\sim 6.3 \\times 10^4\n",
    "\\end{eqnarray}\n",
    "\n",
    "#### e) \n",
    "When $10\\%$ of the carbon is used up, about $6.3 \\times 10^{-5} $ of the star's mass have been converted to thermal energy.\n",
    "\\begin{eqnarray}\n",
    "\\Delta E= 6.3\\times 10^{-5}\\times M_* c^2\n",
    "\\end{eqnarray}\n",
    "\n",
    "The time scale can be estimated as\n",
    "\\begin{eqnarray}\n",
    "\\tau={\\Delta E \\over L} \\sim 933 yr\n",
    "\\end{eqnarray}"
   ]
  },
  {
   "cell_type": "code",
   "execution_count": 24,
   "metadata": {},
   "outputs": [
    {
     "name": "stdout",
     "output_type": "stream",
     "text": [
      "0.6603983120711486\n",
      "387843.12851721677\n",
      "933.1504488023029\n"
     ]
    }
   ],
   "source": [
    "######6#######\n",
    "\n",
    "r=Gcont*(10*Msun)*(12/7*mh)/kcont/(6*10**8)\n",
    "print(r/rsun)\n",
    "\n",
    "T_eff=(10**7*Lsun/(4*pi*(0.7*rsun)**2*sigmacont))**(1/4)\n",
    "print(T_eff)\n",
    "\n",
    "deltaE=6.3*10**(-5)*10*Msun*ccont**2\n",
    "L=10**(7)*Lsun\n",
    "tau=deltaE/L\n",
    "print(tau/yr)"
   ]
  }
 ],
 "metadata": {
  "kernelspec": {
   "display_name": "Python 3",
   "language": "python",
   "name": "python3"
  },
  "language_info": {
   "codemirror_mode": {
    "name": "ipython",
    "version": 3
   },
   "file_extension": ".py",
   "mimetype": "text/x-python",
   "name": "python",
   "nbconvert_exporter": "python",
   "pygments_lexer": "ipython3",
   "version": "3.7.3"
  }
 },
 "nbformat": 4,
 "nbformat_minor": 2
}
