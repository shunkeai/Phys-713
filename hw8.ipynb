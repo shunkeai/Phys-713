{
 "cells": [
  {
   "cell_type": "code",
   "execution_count": 1,
   "metadata": {},
   "outputs": [],
   "source": [
    "# read in library and constants\n",
    "import numpy as np, os, sys\n",
    "import matplotlib.pylab as p\n",
    "\n",
    "sigmacont=5.67051e-5\n",
    "acont=7.5657e-15\n",
    "ev=1.602e-12\n",
    "hcont=6.62607004e-27\n",
    "ccont=2.99792458e10\n",
    "kcont=1.38064852e-16\n",
    "rcont=8.314472e7\n",
    "me=9.1093837015e-28\n",
    "Gcont=6.67259e-8\n",
    "Msun=1.989e33\n",
    "Mearth=5.972e27\n",
    "Mjupiter=1.898e30\n",
    "Lsun=3.827e33\n",
    "rsun=6.9599e10\n",
    "rjupiter=7.149e9\n",
    "rearth=6.371e8\n",
    "au=1.49598e13\n",
    "pc=3.085678e18\n",
    "mh=1.67352e-24\n",
    "yr=365.2425*24.*3600\n",
    "pi=3.1415926"
   ]
  },
  {
   "cell_type": "markdown",
   "metadata": {},
   "source": [
    "# Homework: due Nov 8th, Chapter 6: question 2 a), 3, Chapter 7: question 4"
   ]
  },
  {
   "cell_type": "markdown",
   "metadata": {},
   "source": [
    "### Chapter 6\n",
    "#### 2 a)\n",
    "\n",
    "\\begin{eqnarray}\n",
    "\\tau_{\\rm dur}={r_{*} \\tau \\over \\pi a}\\sqrt{1-b^2}\n",
    "\\end{eqnarray}\n",
    "\n",
    "From Kepler's Law,\n",
    "\\begin{eqnarray}\n",
    "a^3={G(M_1+M_2) \\over a^3} \\approx {G M_* \\over \\omega^2} = {GM_* \\tau^2\\over 4\\pi^2}\n",
    "\\end{eqnarray}\n",
    "when a stellar-planet system is consierded, where $M_*>>m_p$\n",
    "\n",
    "\\begin{eqnarray}\n",
    "a=({GM_* \\tau^2\\over 4\\pi^2})^{1/3}\n",
    "\\end{eqnarray}\n",
    "\n",
    "Substitute the expression of $a$ to the first equation, we have\n",
    "\\begin{eqnarray}\n",
    "\\tau_{\\rm dur} &=& {r_* \\tau \\over \\pi ({GM_* \\tau^2\\over 4\\pi^2})^{1/3}} \\sqrt{1-b^2} \\\\\n",
    "&=&{r_* \\tau^{1/3} (4\\pi^2)^{1/3} \\over \\pi (GM_*)^{1/3}}\\sqrt{1-b^2} \\\\\n",
    "&=&{\\tau^{1/3} (4\\pi^2)^{1/3} \\over \\pi G^{1/3} \\rho_*^{1/3}(4\\pi /3 )^{1/3}}\\sqrt{1-b^2}\n",
    "\\end{eqnarray}\n",
    "\n",
    "\\begin{eqnarray}\n",
    "\\rho_*={4 \\tau \\over G \\pi^2 t_{\\rm dur}^3}(1-b^2)^{3/2}.\n",
    "\\end{eqnarray}\n",
    "Let $b=0$ we can find the upper bound of $\\rho $, where $\\rho_{\\rm *,max}=3\\tau / (G\\pi^2 t_{\\rm dur}^3)$\n",
    "\n",
    "\n",
    "#### 3\n",
    "The angular radius of Einstein ring can be calculated as \n",
    "\\begin{eqnarray}\n",
    "\\theta_E=({4 G M \\over c^2}{D_{ls} \\over D_{ol} D_{os}})^{1/2}\n",
    "\\end{eqnarray}\n",
    "When $D_{ol}=D_{ls}=d$, $D_{os}=2d$,\n",
    "\\begin{eqnarray}\n",
    "\\theta_E &=& ({4GM \\over c^2} {d \\over 2d^2})^{1/2} \\\\\n",
    "&=& ({2GM \\over c^2} {1 \\over d})^{1/2}\n",
    "\\end{eqnarray}\n",
    "\n",
    "Set $M=M_{\\odot}$ and $d\\theta_E=R_{\\odot}$, thus $\\theta_E={R_{\\odot} \\over d}$. Substitute $\\theta_E$ in the the second equation, we have\n",
    "\\begin{eqnarray}\n",
    "{R_{\\odot} \\over d} = ({2GM_{\\odot} \\over c^2} {1 \\over d})^{1/2}\n",
    "\\end{eqnarray}\n",
    "\n",
    "\\begin{eqnarray}\n",
    "d= {R^2_{\\odot} c^2 \\over 2GM_{\\odot}}\\sim 0.0053 {\\rm pc}\n",
    "\\end{eqnarray}"
   ]
  },
  {
   "cell_type": "code",
   "execution_count": 7,
   "metadata": {},
   "outputs": [
    {
     "name": "stdout",
     "output_type": "stream",
     "text": [
      "0.005315419949978069\n"
     ]
    }
   ],
   "source": [
    "d=rsun**2*ccont**2/2/Gcont/Msun\n",
    "print(d/pc)"
   ]
  },
  {
   "cell_type": "markdown",
   "metadata": {},
   "source": [
    "### Chapter 7\n",
    "#### 4\n",
    "\n",
    "The cross section of the source inside the Einstein ring is\n",
    "\\begin{eqnarray}\n",
    "\\sigma = \\pi(\\theta_E D_{ol})^2 = \\pi {4Gm \\over c^2}{D_{ls} \\over l D_{ol} }D_{ol}^2\n",
    "\\end{eqnarray}\n",
    "As an order of magnitude estimation, \n",
    "\\begin{eqnarray}\n",
    "N \\approx n\\sigma l &=& {M_b \\over m \\pi r^2 2h}\\pi {4Gm \\over c^2}{D_{ls} \\over l D_{ol} }D_{ol}^2 l \\\\\n",
    "&=& {M_b \\over \\pi r^2 2h}\\pi {4G \\over c^2}{D_{ls} \\over D_{ol} }D_{ol}^2\n",
    "\\end{eqnarray}\n",
    "\n",
    "Let $D_{ls}=D_{ol}={1 \\over 2}r$\n",
    "\\begin{eqnarray}\n",
    "N \\approx {G M_b \\over 2h c^2} \\sim 2.4\\times 10^{-6}\n",
    "\\end{eqnarray}"
   ]
  },
  {
   "cell_type": "code",
   "execution_count": 9,
   "metadata": {},
   "outputs": [
    {
     "name": "stdout",
     "output_type": "stream",
     "text": [
      "2.3928045053684927e-06\n"
     ]
    }
   ],
   "source": [
    "Mb=5e10*Msun\n",
    "h2=1e3*pc\n",
    "N=Gcont*Mb/h2/ccont**2\n",
    "print(N)"
   ]
  }
 ],
 "metadata": {
  "kernelspec": {
   "display_name": "Python 3",
   "language": "python",
   "name": "python3"
  },
  "language_info": {
   "codemirror_mode": {
    "name": "ipython",
    "version": 3
   },
   "file_extension": ".py",
   "mimetype": "text/x-python",
   "name": "python",
   "nbconvert_exporter": "python",
   "pygments_lexer": "ipython3",
   "version": "3.7.3"
  }
 },
 "nbformat": 4,
 "nbformat_minor": 2
}
